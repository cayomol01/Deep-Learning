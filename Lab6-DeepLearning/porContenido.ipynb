{
 "cells": [
  {
   "cell_type": "markdown",
   "metadata": {},
   "source": [
    "# Filtración colaborativa"
   ]
  },
  {
   "cell_type": "markdown",
   "metadata": {},
   "source": [
    "importar librerías"
   ]
  },
  {
   "cell_type": "code",
   "execution_count": 1,
   "metadata": {},
   "outputs": [],
   "source": [
    "import pandas as pd\n",
    "import tensorflow as tf\n",
    "from tensorflow.keras.layers import Input, Embedding, Flatten, Dense, Concatenate\n",
    "from sklearn.model_selection import train_test_split"
   ]
  },
  {
   "cell_type": "markdown",
   "metadata": {},
   "source": [
    "Cargar datos"
   ]
  },
  {
   "cell_type": "code",
   "execution_count": 2,
   "metadata": {},
   "outputs": [
    {
     "data": {
      "text/html": [
       "<div>\n",
       "<style scoped>\n",
       "    .dataframe tbody tr th:only-of-type {\n",
       "        vertical-align: middle;\n",
       "    }\n",
       "\n",
       "    .dataframe tbody tr th {\n",
       "        vertical-align: top;\n",
       "    }\n",
       "\n",
       "    .dataframe thead th {\n",
       "        text-align: right;\n",
       "    }\n",
       "</style>\n",
       "<table border=\"1\" class=\"dataframe\">\n",
       "  <thead>\n",
       "    <tr style=\"text-align: right;\">\n",
       "      <th></th>\n",
       "      <th>Unnamed: 0</th>\n",
       "      <th>User-ID</th>\n",
       "      <th>Location</th>\n",
       "      <th>Age</th>\n",
       "      <th>RealCountry</th>\n",
       "      <th>ISBN</th>\n",
       "      <th>Book-Rating</th>\n",
       "      <th>Book-Title</th>\n",
       "      <th>Book-Author</th>\n",
       "      <th>Year-Of-Publication</th>\n",
       "      <th>Publisher</th>\n",
       "    </tr>\n",
       "  </thead>\n",
       "  <tbody>\n",
       "    <tr>\n",
       "      <th>0</th>\n",
       "      <td>0</td>\n",
       "      <td>2</td>\n",
       "      <td>stockton, california, usa</td>\n",
       "      <td>18.0</td>\n",
       "      <td>usa</td>\n",
       "      <td>0195153448</td>\n",
       "      <td>0</td>\n",
       "      <td>Classical Mythology</td>\n",
       "      <td>Mark P. O. Morford</td>\n",
       "      <td>2002</td>\n",
       "      <td>Oxford University Press</td>\n",
       "    </tr>\n",
       "    <tr>\n",
       "      <th>1</th>\n",
       "      <td>1</td>\n",
       "      <td>10</td>\n",
       "      <td>albacete, wisconsin, spain</td>\n",
       "      <td>26.0</td>\n",
       "      <td>spain</td>\n",
       "      <td>1841721522</td>\n",
       "      <td>0</td>\n",
       "      <td>New Vegetarian: Bold and Beautiful Recipes for...</td>\n",
       "      <td>Celia Brooks Brown</td>\n",
       "      <td>2001</td>\n",
       "      <td>Ryland Peters &amp;amp; Small Ltd</td>\n",
       "    </tr>\n",
       "    <tr>\n",
       "      <th>2</th>\n",
       "      <td>2</td>\n",
       "      <td>3675</td>\n",
       "      <td>barcelona, catalunya, spain</td>\n",
       "      <td>24.0</td>\n",
       "      <td>spain</td>\n",
       "      <td>1841721522</td>\n",
       "      <td>0</td>\n",
       "      <td>New Vegetarian: Bold and Beautiful Recipes for...</td>\n",
       "      <td>Celia Brooks Brown</td>\n",
       "      <td>2001</td>\n",
       "      <td>Ryland Peters &amp;amp; Small Ltd</td>\n",
       "    </tr>\n",
       "    <tr>\n",
       "      <th>3</th>\n",
       "      <td>3</td>\n",
       "      <td>6366</td>\n",
       "      <td>madrid, madrid, spain</td>\n",
       "      <td>20.0</td>\n",
       "      <td>spain</td>\n",
       "      <td>1841721522</td>\n",
       "      <td>7</td>\n",
       "      <td>New Vegetarian: Bold and Beautiful Recipes for...</td>\n",
       "      <td>Celia Brooks Brown</td>\n",
       "      <td>2001</td>\n",
       "      <td>Ryland Peters &amp;amp; Small Ltd</td>\n",
       "    </tr>\n",
       "    <tr>\n",
       "      <th>4</th>\n",
       "      <td>4</td>\n",
       "      <td>13872</td>\n",
       "      <td>barcelona, catalunya, spain</td>\n",
       "      <td>17.0</td>\n",
       "      <td>spain</td>\n",
       "      <td>1841721522</td>\n",
       "      <td>0</td>\n",
       "      <td>New Vegetarian: Bold and Beautiful Recipes for...</td>\n",
       "      <td>Celia Brooks Brown</td>\n",
       "      <td>2001</td>\n",
       "      <td>Ryland Peters &amp;amp; Small Ltd</td>\n",
       "    </tr>\n",
       "  </tbody>\n",
       "</table>\n",
       "</div>"
      ],
      "text/plain": [
       "   Unnamed: 0  User-ID                     Location   Age RealCountry  \\\n",
       "0           0        2    stockton, california, usa  18.0         usa   \n",
       "1           1       10   albacete, wisconsin, spain  26.0       spain   \n",
       "2           2     3675  barcelona, catalunya, spain  24.0       spain   \n",
       "3           3     6366        madrid, madrid, spain  20.0       spain   \n",
       "4           4    13872  barcelona, catalunya, spain  17.0       spain   \n",
       "\n",
       "         ISBN  Book-Rating                                         Book-Title  \\\n",
       "0  0195153448            0                                Classical Mythology   \n",
       "1  1841721522            0  New Vegetarian: Bold and Beautiful Recipes for...   \n",
       "2  1841721522            0  New Vegetarian: Bold and Beautiful Recipes for...   \n",
       "3  1841721522            7  New Vegetarian: Bold and Beautiful Recipes for...   \n",
       "4  1841721522            0  New Vegetarian: Bold and Beautiful Recipes for...   \n",
       "\n",
       "          Book-Author  Year-Of-Publication                      Publisher  \n",
       "0  Mark P. O. Morford                 2002        Oxford University Press  \n",
       "1  Celia Brooks Brown                 2001  Ryland Peters &amp; Small Ltd  \n",
       "2  Celia Brooks Brown                 2001  Ryland Peters &amp; Small Ltd  \n",
       "3  Celia Brooks Brown                 2001  Ryland Peters &amp; Small Ltd  \n",
       "4  Celia Brooks Brown                 2001  Ryland Peters &amp; Small Ltd  "
      ]
     },
     "execution_count": 2,
     "metadata": {},
     "output_type": "execute_result"
    }
   ],
   "source": [
    "data = pd.read_csv('users_ratings_books.csv')\n",
    "data.head()"
   ]
  },
  {
   "cell_type": "code",
   "execution_count": 3,
   "metadata": {},
   "outputs": [
    {
     "data": {
      "text/html": [
       "<div>\n",
       "<style scoped>\n",
       "    .dataframe tbody tr th:only-of-type {\n",
       "        vertical-align: middle;\n",
       "    }\n",
       "\n",
       "    .dataframe tbody tr th {\n",
       "        vertical-align: top;\n",
       "    }\n",
       "\n",
       "    .dataframe thead th {\n",
       "        text-align: right;\n",
       "    }\n",
       "</style>\n",
       "<table border=\"1\" class=\"dataframe\">\n",
       "  <thead>\n",
       "    <tr style=\"text-align: right;\">\n",
       "      <th></th>\n",
       "      <th>Unnamed: 0</th>\n",
       "      <th>User-ID</th>\n",
       "      <th>Location</th>\n",
       "      <th>Age</th>\n",
       "      <th>RealCountry</th>\n",
       "      <th>ISBN</th>\n",
       "      <th>Book-Rating</th>\n",
       "      <th>Book-Title</th>\n",
       "      <th>Book-Author</th>\n",
       "      <th>Year-Of-Publication</th>\n",
       "      <th>Publisher</th>\n",
       "    </tr>\n",
       "  </thead>\n",
       "  <tbody>\n",
       "    <tr>\n",
       "      <th>255460</th>\n",
       "      <td>255460</td>\n",
       "      <td>235842</td>\n",
       "      <td>griswold, iowa, usa</td>\n",
       "      <td>41.0</td>\n",
       "      <td>usa</td>\n",
       "      <td>1556611536</td>\n",
       "      <td>0</td>\n",
       "      <td>Julia's Last Hope (Oke, Janette, Women of the ...</td>\n",
       "      <td>Janette Oke</td>\n",
       "      <td>1990</td>\n",
       "      <td>Bethany House Publishers</td>\n",
       "    </tr>\n",
       "    <tr>\n",
       "      <th>702489</th>\n",
       "      <td>702489</td>\n",
       "      <td>278720</td>\n",
       "      <td>wiesloch, baden-württemberg, germany</td>\n",
       "      <td>31.0</td>\n",
       "      <td>germany</td>\n",
       "      <td>0192818252</td>\n",
       "      <td>7</td>\n",
       "      <td>Orlando</td>\n",
       "      <td>Virginia Woolf</td>\n",
       "      <td>1992</td>\n",
       "      <td>Oxford University Press</td>\n",
       "    </tr>\n",
       "    <tr>\n",
       "      <th>539652</th>\n",
       "      <td>539652</td>\n",
       "      <td>245371</td>\n",
       "      <td>halifax, nova scotia, canada</td>\n",
       "      <td>26.0</td>\n",
       "      <td>canada</td>\n",
       "      <td>0375709258</td>\n",
       "      <td>0</td>\n",
       "      <td>Lust &amp;amp; Other Stories (Vintage Contemporaries)</td>\n",
       "      <td>Susan Minot</td>\n",
       "      <td>2000</td>\n",
       "      <td>Vintage Books USA</td>\n",
       "    </tr>\n",
       "    <tr>\n",
       "      <th>388204</th>\n",
       "      <td>388204</td>\n",
       "      <td>278144</td>\n",
       "      <td>storm lake, iowa, usa</td>\n",
       "      <td>48.0</td>\n",
       "      <td>usa</td>\n",
       "      <td>0399150803</td>\n",
       "      <td>0</td>\n",
       "      <td>Trojan Odyssey</td>\n",
       "      <td>Clive Cussler</td>\n",
       "      <td>2003</td>\n",
       "      <td>G. P. Putnam's Sons</td>\n",
       "    </tr>\n",
       "    <tr>\n",
       "      <th>558522</th>\n",
       "      <td>558522</td>\n",
       "      <td>170229</td>\n",
       "      <td>chicago, illinois, usa</td>\n",
       "      <td>56.0</td>\n",
       "      <td>usa</td>\n",
       "      <td>0679731180</td>\n",
       "      <td>0</td>\n",
       "      <td>The Origin of Satan</td>\n",
       "      <td>Elaine Pagels</td>\n",
       "      <td>1996</td>\n",
       "      <td>Vintage Books USA</td>\n",
       "    </tr>\n",
       "  </tbody>\n",
       "</table>\n",
       "</div>"
      ],
      "text/plain": [
       "        Unnamed: 0  User-ID                              Location   Age  \\\n",
       "255460      255460   235842                   griswold, iowa, usa  41.0   \n",
       "702489      702489   278720  wiesloch, baden-württemberg, germany  31.0   \n",
       "539652      539652   245371          halifax, nova scotia, canada  26.0   \n",
       "388204      388204   278144                 storm lake, iowa, usa  48.0   \n",
       "558522      558522   170229                chicago, illinois, usa  56.0   \n",
       "\n",
       "       RealCountry        ISBN  Book-Rating  \\\n",
       "255460         usa  1556611536            0   \n",
       "702489     germany  0192818252            7   \n",
       "539652      canada  0375709258            0   \n",
       "388204         usa  0399150803            0   \n",
       "558522         usa  0679731180            0   \n",
       "\n",
       "                                               Book-Title     Book-Author  \\\n",
       "255460  Julia's Last Hope (Oke, Janette, Women of the ...     Janette Oke   \n",
       "702489                                            Orlando  Virginia Woolf   \n",
       "539652  Lust &amp; Other Stories (Vintage Contemporaries)     Susan Minot   \n",
       "388204                                     Trojan Odyssey   Clive Cussler   \n",
       "558522                                The Origin of Satan   Elaine Pagels   \n",
       "\n",
       "        Year-Of-Publication                 Publisher  \n",
       "255460                 1990  Bethany House Publishers  \n",
       "702489                 1992   Oxford University Press  \n",
       "539652                 2000         Vintage Books USA  \n",
       "388204                 2003       G. P. Putnam's Sons  \n",
       "558522                 1996         Vintage Books USA  "
      ]
     },
     "execution_count": 3,
     "metadata": {},
     "output_type": "execute_result"
    }
   ],
   "source": [
    "data = data.sample(n=50000)\n",
    "data.head()"
   ]
  },
  {
   "cell_type": "code",
   "execution_count": 4,
   "metadata": {},
   "outputs": [],
   "source": [
    "data = data[['User-ID', 'ISBN', 'Book-Rating', 'Book-Author']]\n",
    "\n"
   ]
  },
  {
   "cell_type": "code",
   "execution_count": 20,
   "metadata": {},
   "outputs": [],
   "source": [
    "data['User-ID'] = data['User-ID'].astype('category')\n",
    "data['ISBN'] = data['ISBN'].astype('category')\n",
    "data['Book-Author'] = data['Book-Author'].astype('category')"
   ]
  },
  {
   "cell_type": "code",
   "execution_count": 21,
   "metadata": {},
   "outputs": [],
   "source": [
    "data['User-ID'] = data['User-ID'].cat.codes\n",
    "data['ISBN'] = data['ISBN'].cat.codes\n",
    "data['Book-Author'] = data['Book-Author'].cat.codes\n"
   ]
  },
  {
   "cell_type": "code",
   "execution_count": 22,
   "metadata": {},
   "outputs": [
    {
     "name": "stdout",
     "output_type": "stream",
     "text": [
      "<class 'pandas.core.frame.DataFrame'>\n",
      "Int64Index: 50000 entries, 255460 to 183318\n",
      "Data columns (total 4 columns):\n",
      " #   Column       Non-Null Count  Dtype\n",
      "---  ------       --------------  -----\n",
      " 0   User-ID      50000 non-null  int16\n",
      " 1   ISBN         50000 non-null  int32\n",
      " 2   Book-Rating  50000 non-null  int64\n",
      " 3   Book-Author  50000 non-null  int16\n",
      "dtypes: int16(2), int32(1), int64(1)\n",
      "memory usage: 1.1 MB\n"
     ]
    }
   ],
   "source": [
    "data.info()"
   ]
  },
  {
   "cell_type": "code",
   "execution_count": 23,
   "metadata": {},
   "outputs": [],
   "source": [
    "train, test = train_test_split(data, test_size=0.2, random_state=42)"
   ]
  },
  {
   "cell_type": "code",
   "execution_count": 24,
   "metadata": {},
   "outputs": [],
   "source": [
    "\n",
    "# Definir la arquitectura de la red neuronal\n",
    "user_input = Input(shape=(1,))\n",
    "book_input = Input(shape=(1,))\n",
    "author_input = Input(shape=(1,))\n",
    "\n",
    "user_embedding = Embedding(input_dim=data['User-ID'].nunique(), output_dim=50)(user_input)\n",
    "book_embedding = Embedding(input_dim=data['ISBN'].nunique(), output_dim=50)(book_input)\n",
    "author_embedding = Embedding(input_dim=data['Book-Author'].nunique(), output_dim=50)(author_input)\n",
    "\n",
    "user_flat = Flatten()(user_embedding)\n",
    "book_flat = Flatten()(book_embedding)\n",
    "author_flat = Flatten()(author_embedding)\n",
    "\n",
    "concat = Concatenate()([user_flat, book_flat, author_flat])\n",
    "\n",
    "dense1 = Dense(256, activation='relu')(concat)\n",
    "dense2 = Dense(128, activation='relu')(dense1)\n",
    "output = Dense(1)(dense2)\n"
   ]
  },
  {
   "cell_type": "code",
   "execution_count": 25,
   "metadata": {},
   "outputs": [
    {
     "name": "stdout",
     "output_type": "stream",
     "text": [
      "Epoch 1/10\n",
      "625/625 [==============================] - 30s 46ms/step - loss: 13.2498\n",
      "Epoch 2/10\n",
      "625/625 [==============================] - 31s 50ms/step - loss: 7.5529\n",
      "Epoch 3/10\n",
      "625/625 [==============================] - 32s 51ms/step - loss: 3.6432\n",
      "Epoch 4/10\n",
      "625/625 [==============================] - 35s 56ms/step - loss: 2.3802\n",
      "Epoch 5/10\n",
      "625/625 [==============================] - 34s 55ms/step - loss: 1.7278\n",
      "Epoch 6/10\n",
      "625/625 [==============================] - 33s 53ms/step - loss: 1.2563\n",
      "Epoch 7/10\n",
      "625/625 [==============================] - 32s 51ms/step - loss: 0.9126\n",
      "Epoch 8/10\n",
      "625/625 [==============================] - 31s 50ms/step - loss: 0.6436\n",
      "Epoch 9/10\n",
      "625/625 [==============================] - 32s 51ms/step - loss: 0.4647\n",
      "Epoch 10/10\n",
      "625/625 [==============================] - 29s 46ms/step - loss: 0.3460\n",
      "313/313 [==============================] - 1s 2ms/step - loss: 17.2742\n",
      "RMSE en el conjunto de prueba: 4.1562217768807965\n"
     ]
    }
   ],
   "source": [
    "\n",
    "# Dividir los datos en conjuntos de entrenamiento y prueba\n",
    "\n",
    "model = tf.keras.Model(inputs=[user_input, book_input, author_input], outputs=output)\n",
    "\n",
    "# Compilar el modelo\n",
    "model.compile(optimizer='adam', loss='mean_squared_error')\n",
    "\n",
    "history = model.fit([train['User-ID'], train['ISBN'], train['Book-Author']], train['Book-Rating'], epochs=10, batch_size=64)\n",
    "loss = model.evaluate([test['User-ID'], test['ISBN'], test['Book-Author']], test['Book-Rating'])\n",
    "\n",
    "print(f'RMSE en el conjunto de prueba: {loss**0.5}')"
   ]
  },
  {
   "cell_type": "code",
   "execution_count": 26,
   "metadata": {},
   "outputs": [],
   "source": [
    "import matplotlib.pyplot as plt"
   ]
  },
  {
   "cell_type": "code",
   "execution_count": 27,
   "metadata": {},
   "outputs": [
    {
     "name": "stdout",
     "output_type": "stream",
     "text": [
      "Minimum MSE:  0.3460448384284973\n"
     ]
    },
    {
     "data": {
      "image/png": "[encoded data removed]",
      "text/plain": [
       "<Figure size 640x480 with 1 Axes>"
      ]
     },
     "metadata": {},
     "output_type": "display_data"
    }
   ],
   "source": [
    "pd.Series(history.history['loss']).plot(logy=False)\n",
    "plt.xlabel(\"Epoch\")\n",
    "plt.ylabel(\"Validation Error\")\n",
    "print('Minimum MSE: ', min(history.history['loss']))"
   ]
  }
 ],
 "metadata": {
  "kernelspec": {
   "display_name": "Python 3",
   "language": "python",
   "name": "python3"
  },
  "language_info": {
   "codemirror_mode": {
    "name": "ipython",
    "version": 3
   },
   "file_extension": ".py",
   "mimetype": "text/x-python",
   "name": "python",
   "nbconvert_exporter": "python",
   "pygments_lexer": "ipython3",
   "version": "3.10.0"
  }
 },
 "nbformat": 4,
 "nbformat_minor": 2
}
