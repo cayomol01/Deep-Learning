{
 "cells": [
  {
   "cell_type": "markdown",
   "metadata": {},
   "source": [
    "# Filtración colaborativa"
   ]
  },
  {
   "cell_type": "markdown",
   "metadata": {},
   "source": [
    "importar librerías"
   ]
  },
  {
   "cell_type": "code",
   "execution_count": 1,
   "metadata": {},
   "outputs": [],
   "source": [
    "import pandas as pd\n",
    "import tensorflow as tf\n",
    "from tensorflow.keras.layers import Input, Embedding, Flatten, Dense, Concatenate\n",
    "from sklearn.model_selection import train_test_split"
   ]
  },
  {
   "cell_type": "markdown",
   "metadata": {},
   "source": [
    "Cargar datos"
   ]
  },
  {
   "cell_type": "code",
   "execution_count": 2,
   "metadata": {},
   "outputs": [
    {
     "data": {
      "text/html": [
       "<div>\n",
       "<style scoped>\n",
       "    .dataframe tbody tr th:only-of-type {\n",
       "        vertical-align: middle;\n",
       "    }\n",
       "\n",
       "    .dataframe tbody tr th {\n",
       "        vertical-align: top;\n",
       "    }\n",
       "\n",
       "    .dataframe thead th {\n",
       "        text-align: right;\n",
       "    }\n",
       "</style>\n",
       "<table border=\"1\" class=\"dataframe\">\n",
       "  <thead>\n",
       "    <tr style=\"text-align: right;\">\n",
       "      <th></th>\n",
       "      <th>Unnamed: 0</th>\n",
       "      <th>User-ID</th>\n",
       "      <th>Location</th>\n",
       "      <th>Age</th>\n",
       "      <th>RealCountry</th>\n",
       "      <th>ISBN</th>\n",
       "      <th>Book-Rating</th>\n",
       "      <th>Book-Title</th>\n",
       "      <th>Book-Author</th>\n",
       "      <th>Year-Of-Publication</th>\n",
       "      <th>Publisher</th>\n",
       "    </tr>\n",
       "  </thead>\n",
       "  <tbody>\n",
       "    <tr>\n",
       "      <th>0</th>\n",
       "      <td>0</td>\n",
       "      <td>2</td>\n",
       "      <td>stockton, california, usa</td>\n",
       "      <td>18.0</td>\n",
       "      <td>usa</td>\n",
       "      <td>0195153448</td>\n",
       "      <td>0</td>\n",
       "      <td>Classical Mythology</td>\n",
       "      <td>Mark P. O. Morford</td>\n",
       "      <td>2002</td>\n",
       "      <td>Oxford University Press</td>\n",
       "    </tr>\n",
       "    <tr>\n",
       "      <th>1</th>\n",
       "      <td>1</td>\n",
       "      <td>10</td>\n",
       "      <td>albacete, wisconsin, spain</td>\n",
       "      <td>26.0</td>\n",
       "      <td>spain</td>\n",
       "      <td>1841721522</td>\n",
       "      <td>0</td>\n",
       "      <td>New Vegetarian: Bold and Beautiful Recipes for...</td>\n",
       "      <td>Celia Brooks Brown</td>\n",
       "      <td>2001</td>\n",
       "      <td>Ryland Peters &amp;amp; Small Ltd</td>\n",
       "    </tr>\n",
       "    <tr>\n",
       "      <th>2</th>\n",
       "      <td>2</td>\n",
       "      <td>3675</td>\n",
       "      <td>barcelona, catalunya, spain</td>\n",
       "      <td>24.0</td>\n",
       "      <td>spain</td>\n",
       "      <td>1841721522</td>\n",
       "      <td>0</td>\n",
       "      <td>New Vegetarian: Bold and Beautiful Recipes for...</td>\n",
       "      <td>Celia Brooks Brown</td>\n",
       "      <td>2001</td>\n",
       "      <td>Ryland Peters &amp;amp; Small Ltd</td>\n",
       "    </tr>\n",
       "    <tr>\n",
       "      <th>3</th>\n",
       "      <td>3</td>\n",
       "      <td>6366</td>\n",
       "      <td>madrid, madrid, spain</td>\n",
       "      <td>20.0</td>\n",
       "      <td>spain</td>\n",
       "      <td>1841721522</td>\n",
       "      <td>7</td>\n",
       "      <td>New Vegetarian: Bold and Beautiful Recipes for...</td>\n",
       "      <td>Celia Brooks Brown</td>\n",
       "      <td>2001</td>\n",
       "      <td>Ryland Peters &amp;amp; Small Ltd</td>\n",
       "    </tr>\n",
       "    <tr>\n",
       "      <th>4</th>\n",
       "      <td>4</td>\n",
       "      <td>13872</td>\n",
       "      <td>barcelona, catalunya, spain</td>\n",
       "      <td>17.0</td>\n",
       "      <td>spain</td>\n",
       "      <td>1841721522</td>\n",
       "      <td>0</td>\n",
       "      <td>New Vegetarian: Bold and Beautiful Recipes for...</td>\n",
       "      <td>Celia Brooks Brown</td>\n",
       "      <td>2001</td>\n",
       "      <td>Ryland Peters &amp;amp; Small Ltd</td>\n",
       "    </tr>\n",
       "  </tbody>\n",
       "</table>\n",
       "</div>"
      ],
      "text/plain": [
       "   Unnamed: 0  User-ID                     Location   Age RealCountry  \\\n",
       "0           0        2    stockton, california, usa  18.0         usa   \n",
       "1           1       10   albacete, wisconsin, spain  26.0       spain   \n",
       "2           2     3675  barcelona, catalunya, spain  24.0       spain   \n",
       "3           3     6366        madrid, madrid, spain  20.0       spain   \n",
       "4           4    13872  barcelona, catalunya, spain  17.0       spain   \n",
       "\n",
       "         ISBN  Book-Rating                                         Book-Title  \\\n",
       "0  0195153448            0                                Classical Mythology   \n",
       "1  1841721522            0  New Vegetarian: Bold and Beautiful Recipes for...   \n",
       "2  1841721522            0  New Vegetarian: Bold and Beautiful Recipes for...   \n",
       "3  1841721522            7  New Vegetarian: Bold and Beautiful Recipes for...   \n",
       "4  1841721522            0  New Vegetarian: Bold and Beautiful Recipes for...   \n",
       "\n",
       "          Book-Author  Year-Of-Publication                      Publisher  \n",
       "0  Mark P. O. Morford                 2002        Oxford University Press  \n",
       "1  Celia Brooks Brown                 2001  Ryland Peters &amp; Small Ltd  \n",
       "2  Celia Brooks Brown                 2001  Ryland Peters &amp; Small Ltd  \n",
       "3  Celia Brooks Brown                 2001  Ryland Peters &amp; Small Ltd  \n",
       "4  Celia Brooks Brown                 2001  Ryland Peters &amp; Small Ltd  "
      ]
     },
     "execution_count": 2,
     "metadata": {},
     "output_type": "execute_result"
    }
   ],
   "source": [
    "data = pd.read_csv('users_ratings_books.csv')\n",
    "data.head()"
   ]
  },
  {
   "cell_type": "code",
   "execution_count": 3,
   "metadata": {},
   "outputs": [
    {
     "data": {
      "text/html": [
       "<div>\n",
       "<style scoped>\n",
       "    .dataframe tbody tr th:only-of-type {\n",
       "        vertical-align: middle;\n",
       "    }\n",
       "\n",
       "    .dataframe tbody tr th {\n",
       "        vertical-align: top;\n",
       "    }\n",
       "\n",
       "    .dataframe thead th {\n",
       "        text-align: right;\n",
       "    }\n",
       "</style>\n",
       "<table border=\"1\" class=\"dataframe\">\n",
       "  <thead>\n",
       "    <tr style=\"text-align: right;\">\n",
       "      <th></th>\n",
       "      <th>Unnamed: 0</th>\n",
       "      <th>User-ID</th>\n",
       "      <th>Location</th>\n",
       "      <th>Age</th>\n",
       "      <th>RealCountry</th>\n",
       "      <th>ISBN</th>\n",
       "      <th>Book-Rating</th>\n",
       "      <th>Book-Title</th>\n",
       "      <th>Book-Author</th>\n",
       "      <th>Year-Of-Publication</th>\n",
       "      <th>Publisher</th>\n",
       "    </tr>\n",
       "  </thead>\n",
       "  <tbody>\n",
       "    <tr>\n",
       "      <th>636024</th>\n",
       "      <td>636024</td>\n",
       "      <td>180280</td>\n",
       "      <td>st. gallen, st. gallen, switzerland</td>\n",
       "      <td>23.0</td>\n",
       "      <td>switzerland</td>\n",
       "      <td>3502102465</td>\n",
       "      <td>10</td>\n",
       "      <td>Anna schreibt an Mister Gott. Neues von Anna Ã...</td>\n",
       "      <td>Fynn</td>\n",
       "      <td>1987</td>\n",
       "      <td>Scherz</td>\n",
       "    </tr>\n",
       "    <tr>\n",
       "      <th>316570</th>\n",
       "      <td>316570</td>\n",
       "      <td>155916</td>\n",
       "      <td>perth, western australia, australia</td>\n",
       "      <td>27.0</td>\n",
       "      <td>australia</td>\n",
       "      <td>1561707228</td>\n",
       "      <td>10</td>\n",
       "      <td>God, Creation, and Tools for Life</td>\n",
       "      <td>Sylvia Browne</td>\n",
       "      <td>2000</td>\n",
       "      <td>Hay House</td>\n",
       "    </tr>\n",
       "    <tr>\n",
       "      <th>560372</th>\n",
       "      <td>560372</td>\n",
       "      <td>82831</td>\n",
       "      <td>nashville, tennessee, usa</td>\n",
       "      <td>21.0</td>\n",
       "      <td>usa</td>\n",
       "      <td>0963960733</td>\n",
       "      <td>0</td>\n",
       "      <td>Meet the Malones (Beany Malone)</td>\n",
       "      <td>Lenora Mattingly Weber</td>\n",
       "      <td>1999</td>\n",
       "      <td>Image Cascade Publishing</td>\n",
       "    </tr>\n",
       "    <tr>\n",
       "      <th>595938</th>\n",
       "      <td>595938</td>\n",
       "      <td>101606</td>\n",
       "      <td>niagara falls, ontario, canada</td>\n",
       "      <td>32.0</td>\n",
       "      <td>canada</td>\n",
       "      <td>0385298730</td>\n",
       "      <td>7</td>\n",
       "      <td>Chung Kuo: The Middle Kingdom (Chung Kuo)</td>\n",
       "      <td>David Wingrove</td>\n",
       "      <td>1990</td>\n",
       "      <td>Bantam Dell Pub Group</td>\n",
       "    </tr>\n",
       "    <tr>\n",
       "      <th>209267</th>\n",
       "      <td>209267</td>\n",
       "      <td>255629</td>\n",
       "      <td>cottage grove, minnesota, usa</td>\n",
       "      <td>51.0</td>\n",
       "      <td>usa</td>\n",
       "      <td>0515132187</td>\n",
       "      <td>8</td>\n",
       "      <td>The Villa</td>\n",
       "      <td>Nora Roberts</td>\n",
       "      <td>2002</td>\n",
       "      <td>Jove Books</td>\n",
       "    </tr>\n",
       "  </tbody>\n",
       "</table>\n",
       "</div>"
      ],
      "text/plain": [
       "        Unnamed: 0  User-ID                             Location   Age  \\\n",
       "636024      636024   180280  st. gallen, st. gallen, switzerland  23.0   \n",
       "316570      316570   155916  perth, western australia, australia  27.0   \n",
       "560372      560372    82831            nashville, tennessee, usa  21.0   \n",
       "595938      595938   101606       niagara falls, ontario, canada  32.0   \n",
       "209267      209267   255629        cottage grove, minnesota, usa  51.0   \n",
       "\n",
       "        RealCountry        ISBN  Book-Rating  \\\n",
       "636024  switzerland  3502102465           10   \n",
       "316570    australia  1561707228           10   \n",
       "560372          usa  0963960733            0   \n",
       "595938       canada  0385298730            7   \n",
       "209267          usa  0515132187            8   \n",
       "\n",
       "                                               Book-Title  \\\n",
       "636024  Anna schreibt an Mister Gott. Neues von Anna Ã...   \n",
       "316570                  God, Creation, and Tools for Life   \n",
       "560372                    Meet the Malones (Beany Malone)   \n",
       "595938          Chung Kuo: The Middle Kingdom (Chung Kuo)   \n",
       "209267                                          The Villa   \n",
       "\n",
       "                   Book-Author  Year-Of-Publication                 Publisher  \n",
       "636024                    Fynn                 1987                    Scherz  \n",
       "316570           Sylvia Browne                 2000                 Hay House  \n",
       "560372  Lenora Mattingly Weber                 1999  Image Cascade Publishing  \n",
       "595938          David Wingrove                 1990     Bantam Dell Pub Group  \n",
       "209267            Nora Roberts                 2002                Jove Books  "
      ]
     },
     "execution_count": 3,
     "metadata": {},
     "output_type": "execute_result"
    }
   ],
   "source": [
    "data = data.sample(n=50000)\n",
    "data.head()"
   ]
  },
  {
   "cell_type": "code",
   "execution_count": 4,
   "metadata": {},
   "outputs": [],
   "source": [
    "data = data[['User-ID', 'ISBN', 'Book-Rating']]\n",
    "\n"
   ]
  },
  {
   "cell_type": "code",
   "execution_count": 18,
   "metadata": {},
   "outputs": [],
   "source": [
    "data['User-ID'] = data['User-ID'].astype('category').cat.codes\n",
    "data['ISBN'] = data['ISBN'].astype('category').cat.codes"
   ]
  },
  {
   "cell_type": "code",
   "execution_count": 20,
   "metadata": {},
   "outputs": [
    {
     "data": {
      "text/plain": [
       "636024     7877\n",
       "316570     6853\n",
       "560372     3632\n",
       "595938     4474\n",
       "209267    11281\n",
       "          ...  \n",
       "229687     5641\n",
       "13635     12013\n",
       "261835     2378\n",
       "479443     7187\n",
       "199841    10860\n",
       "Name: User-ID, Length: 50000, dtype: int16"
      ]
     },
     "execution_count": 20,
     "metadata": {},
     "output_type": "execute_result"
    }
   ],
   "source": [
    "data['User-ID']"
   ]
  },
  {
   "cell_type": "code",
   "execution_count": 21,
   "metadata": {},
   "outputs": [
    {
     "name": "stdout",
     "output_type": "stream",
     "text": [
      "<class 'pandas.core.frame.DataFrame'>\n",
      "Int64Index: 50000 entries, 636024 to 199841\n",
      "Data columns (total 3 columns):\n",
      " #   Column       Non-Null Count  Dtype\n",
      "---  ------       --------------  -----\n",
      " 0   User-ID      50000 non-null  int16\n",
      " 1   ISBN         50000 non-null  int32\n",
      " 2   Book-Rating  50000 non-null  int64\n",
      "dtypes: int16(1), int32(1), int64(1)\n",
      "memory usage: 1.0 MB\n"
     ]
    }
   ],
   "source": [
    "data.info()"
   ]
  },
  {
   "cell_type": "code",
   "execution_count": 22,
   "metadata": {},
   "outputs": [],
   "source": [
    "train, test = train_test_split(data, test_size=0.2, random_state=42)"
   ]
  },
  {
   "cell_type": "code",
   "execution_count": 17,
   "metadata": {},
   "outputs": [
    {
     "name": "stdout",
     "output_type": "stream",
     "text": [
      "<class 'pandas.core.frame.DataFrame'>\n",
      "Int64Index: 50000 entries, 636024 to 199841\n",
      "Data columns (total 3 columns):\n",
      " #   Column       Non-Null Count  Dtype   \n",
      "---  ------       --------------  -----   \n",
      " 0   User-ID      50000 non-null  category\n",
      " 1   ISBN         50000 non-null  category\n",
      " 2   Book-Rating  50000 non-null  int64   \n",
      "dtypes: category(2), int64(1)\n",
      "memory usage: 2.7 MB\n"
     ]
    }
   ],
   "source": [
    "data.info()"
   ]
  },
  {
   "cell_type": "code",
   "execution_count": 23,
   "metadata": {},
   "outputs": [],
   "source": [
    "\n",
    "# Definir la arquitectura de la red neuronal\n",
    "user_input = Input(shape=(1,))\n",
    "book_input = Input(shape=(1,))\n",
    "\n",
    "user_embedding = Embedding(input_dim=data['User-ID'].nunique(), output_dim=50)(user_input)\n",
    "book_embedding = Embedding(input_dim=data['ISBN'].nunique(), output_dim=50)(book_input)\n",
    "\n",
    "user_flat = Flatten()(user_embedding)\n",
    "book_flat = Flatten()(book_embedding)\n",
    "\n",
    "concat = Concatenate()([user_flat, book_flat])\n",
    "\n",
    "dense1 = Dense(128, activation='relu')(concat)\n",
    "dense2 = Dense(64, activation='relu')(dense1)\n",
    "output = Dense(1)(dense2)\n"
   ]
  },
  {
   "cell_type": "code",
   "execution_count": 24,
   "metadata": {},
   "outputs": [
    {
     "name": "stdout",
     "output_type": "stream",
     "text": [
      "Epoch 1/10\n",
      "625/625 [==============================] - 21s 31ms/step - loss: 13.2217\n",
      "Epoch 2/10\n",
      "625/625 [==============================] - 20s 32ms/step - loss: 7.4053\n",
      "Epoch 3/10\n",
      "625/625 [==============================] - 23s 36ms/step - loss: 3.6366\n",
      "Epoch 4/10\n",
      "625/625 [==============================] - 22s 36ms/step - loss: 2.3651\n",
      "Epoch 5/10\n",
      "625/625 [==============================] - 23s 37ms/step - loss: 1.6770\n",
      "Epoch 6/10\n",
      "625/625 [==============================] - 20s 32ms/step - loss: 1.2159\n",
      "Epoch 7/10\n",
      "625/625 [==============================] - 19s 30ms/step - loss: 0.8905\n",
      "Epoch 8/10\n",
      "625/625 [==============================] - 22s 35ms/step - loss: 0.6757\n",
      "Epoch 9/10\n",
      "625/625 [==============================] - 19s 30ms/step - loss: 0.5207\n",
      "Epoch 10/10\n",
      "625/625 [==============================] - 18s 29ms/step - loss: 0.4152\n",
      "313/313 [==============================] - 1s 2ms/step - loss: 16.7437\n",
      "RMSE en el conjunto de prueba: 4.09190175506995\n"
     ]
    }
   ],
   "source": [
    "\n",
    "# Dividir los datos en conjuntos de entrenamiento y prueba\n",
    "\n",
    "model = tf.keras.Model(inputs=[user_input, book_input], outputs=output)\n",
    "\n",
    "# Compilar el modelo\n",
    "model.compile(optimizer='adam', loss='mean_squared_error')\n",
    "\n",
    "# Entrenar el modelo\n",
    "history = model.fit([train['User-ID'], train['ISBN']], train['Book-Rating'], epochs=10, batch_size=64)\n",
    "\n",
    "# Evaluar el modelo en el conjunto de prueba\n",
    "loss = model.evaluate([test['User-ID'], test['ISBN']], test['Book-Rating'])\n",
    "print(f'RMSE en el conjunto de prueba: {loss**0.5}')"
   ]
  },
  {
   "cell_type": "code",
   "execution_count": 25,
   "metadata": {},
   "outputs": [],
   "source": [
    "import matplotlib.pyplot as plt"
   ]
  },
  {
   "cell_type": "code",
   "execution_count": 26,
   "metadata": {},
   "outputs": [
    {
     "name": "stdout",
     "output_type": "stream",
     "text": [
      "Minimum MSE:  0.4152364730834961\n"
     ]
    },
    {
     "data": {
      "image/png": "[encoded data removed]",
      "text/plain": [
       "<Figure size 640x480 with 1 Axes>"
      ]
     },
     "metadata": {},
     "output_type": "display_data"
    }
   ],
   "source": [
    "pd.Series(history.history['loss']).plot(logy=False)\n",
    "plt.xlabel(\"Epoch\")\n",
    "plt.ylabel(\"Validation Error\")\n",
    "print('Minimum MSE: ', min(history.history['loss']))"
   ]
  }
 ],
 "metadata": {
  "kernelspec": {
   "display_name": "Python 3",
   "language": "python",
   "name": "python3"
  },
  "language_info": {
   "codemirror_mode": {
    "name": "ipython",
    "version": 3
   },
   "file_extension": ".py",
   "mimetype": "text/x-python",
   "name": "python",
   "nbconvert_exporter": "python",
   "pygments_lexer": "ipython3",
   "version": "3.10.0"
  }
 },
 "nbformat": 4,
 "nbformat_minor": 2
}
